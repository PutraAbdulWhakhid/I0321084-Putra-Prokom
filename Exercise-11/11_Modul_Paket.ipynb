{
 "cells": [
  {
   "cell_type": "markdown",
   "metadata": {},
   "source": [
    "***\n",
    "<h1 align=\"center\">Exercise 11</h1>\n",
    " \n",
    "***\n",
    "## Membuat Modul\n",
    "Silakan perhatikan file **Geometri2D** di ./data. \n",
    "Kemudian buatlah kode seperti berikut:\n",
    "\n",
    "![](./images/11_Geometri2D.png)\n"
   ]
  },
  {
   "cell_type": "markdown",
   "metadata": {},
   "source": [
    "## Perintah Import \n",
    "Buatlah kode seperti berikut:\n",
    "\n",
    "![](./images/11_Import.png)\n",
    "\n",
    "Ubah variabel **p** dengan **3 digit nim terakhir kalian** dan variabel **l** dengan **tanggal kalian mengerjakan**."
   ]
  },
  {
   "cell_type": "code",
   "execution_count": 38,
   "metadata": {},
   "outputs": [
    {
     "ename": "AttributeError",
     "evalue": "module 'Data.Geometri2D' has no attribute 'LuasPersegiPanjang'",
     "output_type": "error",
     "traceback": [
      "\u001b[1;31m---------------------------------------------------------------------------\u001b[0m",
      "\u001b[1;31mAttributeError\u001b[0m                            Traceback (most recent call last)",
      "\u001b[1;32md:\\Documents\\Documents\\GitHub\\I0321084-Putra-Prokom\\Exercise-11\\11_Modul_Paket.ipynb Cell 3'\u001b[0m in \u001b[0;36m<cell line: 7>\u001b[1;34m()\u001b[0m\n\u001b[0;32m      <a href='vscode-notebook-cell:/d%3A/Documents/Documents/GitHub/I0321084-Putra-Prokom/Exercise-11/11_Modul_Paket.ipynb#ch0000002?line=3'>4</a>\u001b[0m p \u001b[39m=\u001b[39m \u001b[39m84\u001b[39m\n\u001b[0;32m      <a href='vscode-notebook-cell:/d%3A/Documents/Documents/GitHub/I0321084-Putra-Prokom/Exercise-11/11_Modul_Paket.ipynb#ch0000002?line=4'>5</a>\u001b[0m l \u001b[39m=\u001b[39m \u001b[39m15\u001b[39m\n\u001b[1;32m----> <a href='vscode-notebook-cell:/d%3A/Documents/Documents/GitHub/I0321084-Putra-Prokom/Exercise-11/11_Modul_Paket.ipynb#ch0000002?line=6'>7</a>\u001b[0m luas \u001b[39m=\u001b[39m Geometri2D\u001b[39m.\u001b[39;49mLuasPersegiPanjang(p,l)\n\u001b[0;32m      <a href='vscode-notebook-cell:/d%3A/Documents/Documents/GitHub/I0321084-Putra-Prokom/Exercise-11/11_Modul_Paket.ipynb#ch0000002?line=7'>8</a>\u001b[0m kel \u001b[39m=\u001b[39m Geometri2D\u001b[39m.\u001b[39mKelilingPersegiPanjang(p,l)\n\u001b[0;32m     <a href='vscode-notebook-cell:/d%3A/Documents/Documents/GitHub/I0321084-Putra-Prokom/Exercise-11/11_Modul_Paket.ipynb#ch0000002?line=9'>10</a>\u001b[0m \u001b[39mprint\u001b[39m(\u001b[39m\"\u001b[39m\u001b[39mPersegi Panjang\u001b[39m\u001b[39m\"\u001b[39m)\n",
      "\u001b[1;31mAttributeError\u001b[0m: module 'Data.Geometri2D' has no attribute 'LuasPersegiPanjang'"
     ]
    }
   ],
   "source": [
    "# Kerjakan di sini\n",
    "\n",
    "from Data import Geometri2D\n",
    "p = 84\n",
    "l = 15\n",
    "\n",
    "luas = Geometri2D.LuasPersegiPanjang(p,l)\n",
    "kel = Geometri2D.KelilingPersegiPanjang(p,l)\n",
    "\n",
    "print(\"Persegi Panjang\")\n",
    "print(\"Panjang\\t\\t:\", p)\n",
    "print(\"Lebar\\t\\t:\", l)\n",
    "print(\"Luas\\t\\t:\", luas)\n",
    "print(\"Keliling\\t:\", kel)"
   ]
  },
  {
   "cell_type": "markdown",
   "metadata": {},
   "source": [
    "## Perintah From...Import \n",
    "Buatlah kode seperti berikut:\n",
    "\n",
    "![](./images/11_FromImport.png)\n",
    "\n",
    "Ubah variabel **p** dengan **3 digit nim terakhir kalian** dan variabel **l** dengan **tanggal kalian mengerjakan**."
   ]
  },
  {
   "cell_type": "code",
   "execution_count": 36,
   "metadata": {},
   "outputs": [
    {
     "ename": "ImportError",
     "evalue": "cannot import name 'LuasPersegiPanjang' from 'Data.Geometri2D' (d:\\Documents\\Documents\\GitHub\\I0321084-Putra-Prokom\\Exercise-11\\Data\\Geometri2D.py)",
     "output_type": "error",
     "traceback": [
      "\u001b[1;31m---------------------------------------------------------------------------\u001b[0m",
      "\u001b[1;31mImportError\u001b[0m                               Traceback (most recent call last)",
      "\u001b[1;32md:\\Documents\\Documents\\GitHub\\I0321084-Putra-Prokom\\Exercise-11\\11_Modul_Paket.ipynb Cell 5'\u001b[0m in \u001b[0;36m<cell line: 2>\u001b[1;34m()\u001b[0m\n\u001b[0;32m      <a href='vscode-notebook-cell:/d%3A/Documents/Documents/GitHub/I0321084-Putra-Prokom/Exercise-11/11_Modul_Paket.ipynb#ch0000004?line=0'>1</a>\u001b[0m \u001b[39m# Kerjakan di sini\u001b[39;00m\n\u001b[1;32m----> <a href='vscode-notebook-cell:/d%3A/Documents/Documents/GitHub/I0321084-Putra-Prokom/Exercise-11/11_Modul_Paket.ipynb#ch0000004?line=1'>2</a>\u001b[0m \u001b[39mfrom\u001b[39;00m \u001b[39mData\u001b[39;00m\u001b[39m.\u001b[39;00m\u001b[39mGeometri2D\u001b[39;00m \u001b[39mimport\u001b[39;00m LuasPersegiPanjang\n\u001b[0;32m      <a href='vscode-notebook-cell:/d%3A/Documents/Documents/GitHub/I0321084-Putra-Prokom/Exercise-11/11_Modul_Paket.ipynb#ch0000004?line=2'>3</a>\u001b[0m p \u001b[39m=\u001b[39m \u001b[39m84\u001b[39m\n\u001b[0;32m      <a href='vscode-notebook-cell:/d%3A/Documents/Documents/GitHub/I0321084-Putra-Prokom/Exercise-11/11_Modul_Paket.ipynb#ch0000004?line=3'>4</a>\u001b[0m l \u001b[39m=\u001b[39m \u001b[39m15\u001b[39m\n",
      "\u001b[1;31mImportError\u001b[0m: cannot import name 'LuasPersegiPanjang' from 'Data.Geometri2D' (d:\\Documents\\Documents\\GitHub\\I0321084-Putra-Prokom\\Exercise-11\\Data\\Geometri2D.py)"
     ]
    }
   ],
   "source": [
    "# Kerjakan di sini\n",
    "from Data.Geometri2D import LuasPersegiPanjang\n",
    "p = 84\n",
    "l = 15\n",
    "\n",
    "luas = LuasPersegiPanjang(p,l)\n",
    "\n",
    "print(\"Persegi Panjang\")\n",
    "print(\"Panjang\\t\\t:\", p)\n",
    "print(\"Lebar\\t\\t:\", l)\n",
    "print(\"Luas\\t\\t:\", luas)\n"
   ]
  },
  {
   "cell_type": "markdown",
   "metadata": {},
   "source": [
    "## Membuat Alias/Nama Lain Modul \n",
    "### 1. Nama Modul\n",
    "Buatlah kode seperti berikut:\n",
    "\n",
    "![](./images/11_Alias.png)\n",
    "\n",
    "Ubah variabel **p** dengan **3 digit nim terakhir kalian** dan variabel **l** dengan **tanggal kalian mengerjakan**."
   ]
  },
  {
   "cell_type": "code",
   "execution_count": null,
   "metadata": {},
   "outputs": [],
   "source": [
    "# Kerjakan di sini\n",
    "\n",
    "\n"
   ]
  },
  {
   "cell_type": "markdown",
   "metadata": {},
   "source": [
    "### 2. Nama Fungsi\n",
    "Buatlah kode seperti berikut:\n",
    "\n",
    "![](./images/11_Alias2.png)\n",
    "\n",
    "Ubah variabel **p** dengan **3 digit nim terakhir kalian** dan variabel **l** dengan **tanggal kalian mengerjakan**."
   ]
  },
  {
   "cell_type": "code",
   "execution_count": null,
   "metadata": {},
   "outputs": [],
   "source": [
    "# Kerjakan di sini\n"
   ]
  },
  {
   "cell_type": "markdown",
   "metadata": {},
   "source": [
    "## Membuat Paket \n",
    "Silakan perhatikan file **__init__.py** di ./Data.\n",
    "Kemudian isikan kode berikut ke dalam file **__init__.py**:\n",
    "\n",
    "![](./images/11_init.png)\n"
   ]
  },
  {
   "cell_type": "markdown",
   "metadata": {},
   "source": [
    "## Menggunakan Paket\n",
    "Buatlah kode seperti berikut:\n",
    "\n",
    "![](./images/11_Paket.png)\n",
    "\n",
    "Ubah variabel **sisi** dengan **tanggal kalian mengerjakan**."
   ]
  },
  {
   "cell_type": "code",
   "execution_count": null,
   "metadata": {},
   "outputs": [],
   "source": [
    "# Kerjakan di sini\n"
   ]
  },
  {
   "cell_type": "markdown",
   "metadata": {},
   "source": [
    "***\n",
    "<h1 align=\"center\">Well Done!!!</h1>\n",
    "\n",
    "***"
   ]
  }
 ],
 "metadata": {
  "interpreter": {
   "hash": "9ccb2bdbb146760352136f3824825e1ac29fe1a04f6516d230c5ece8594a4d2e"
  },
  "kernelspec": {
   "display_name": "Python 3.9.5 64-bit",
   "language": "python",
   "name": "python3"
  },
  "language_info": {
   "codemirror_mode": {
    "name": "ipython",
    "version": 3
   },
   "file_extension": ".py",
   "mimetype": "text/x-python",
   "name": "python",
   "nbconvert_exporter": "python",
   "pygments_lexer": "ipython3",
   "version": "3.9.5"
  },
  "orig_nbformat": 4
 },
 "nbformat": 4,
 "nbformat_minor": 2
}
