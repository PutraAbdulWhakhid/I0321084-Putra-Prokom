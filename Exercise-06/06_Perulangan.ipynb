{
 "cells": [
  {
   "cell_type": "markdown",
   "metadata": {},
   "source": [
    "***\n",
    "<h1 align=\"center\">Exercise 06</h1>\n",
    " \n",
    "***\n",
    "## While Loop\n",
    "## Exercise 6.1\n",
    "isilah bagian rumpang berikut. xx diganti tanggal lahir dan yy diganti menjadi bulan lahir. tandanya menyesuaikan yang lebih besar."
   ]
  },
  {
   "cell_type": "code",
   "execution_count": 4,
   "metadata": {},
   "outputs": [
    {
     "name": "stdout",
     "output_type": "stream",
     "text": [
      "Man jadda wajada\n",
      "Man jadda wajada\n",
      "Man jadda wajada\n",
      "Man jadda wajada\n",
      "Man jadda wajada\n",
      "Man jadda wajada\n",
      "Man jadda wajada\n"
     ]
    }
   ],
   "source": [
    "#menentukan banyak pengulangan\n",
    "n = 14\n",
    "\n",
    "#melakukan pengulangan\n",
    "i = 8\n",
    "\n",
    "while i <= n :\n",
    "    print (\"Man jadda wajada\")\n",
    "    #diisi motto kalian\n",
    "    i = i + 1 # sesuaikan dengan atas agar fungsi perulangan dapat berhenti\n"
   ]
  },
  {
   "cell_type": "markdown",
   "metadata": {},
   "source": [
    "## Exercise 6.2\n",
    "\n",
    "Buatlah code seperti yang dicontohkan pada modul agar user dapat menginputkan sendiri jumlah n yang diinginkan"
   ]
  },
  {
   "cell_type": "code",
   "execution_count": 5,
   "metadata": {},
   "outputs": [
    {
     "name": "stdout",
     "output_type": "stream",
     "text": [
      "6\n",
      "7\n",
      "8\n",
      "9\n",
      "10\n",
      "11\n",
      "12\n",
      "13\n",
      "14\n"
     ]
    }
   ],
   "source": [
    "#Kerjakan disini\n",
    "n = int(input(\"input nilai n: \"))\n",
    "i=6\n",
    "while i <= n:\n",
    "    print(i)\n",
    "    i += 1\n"
   ]
  },
  {
   "cell_type": "markdown",
   "metadata": {},
   "source": [
    "## Excercise 6.3\n",
    "\n",
    "isilah xx, yy, dan tanda rumpang seperti pada exercise 6.1\n"
   ]
  },
  {
   "cell_type": "code",
   "execution_count": 1,
   "metadata": {},
   "outputs": [
    {
     "name": "stdout",
     "output_type": "stream",
     "text": [
      "Baris ke-14 : My Stupid Boss\n",
      "Baris ke-13 : My Stupid Boss\n",
      "Baris ke-12 : My Stupid Boss\n",
      "Baris ke-11 : My Stupid Boss\n",
      "Baris ke-10 : My Stupid Boss\n",
      "Baris ke-9 : My Stupid Boss\n",
      "Baris ke-8 : My Stupid Boss\n"
     ]
    }
   ],
   "source": [
    "#melakukan pengulangan\n",
    "i = 14\n",
    "\n",
    "while i >= 8 :\n",
    "    print (\"Baris ke-%d : My Stupid Boss\"%i)\n",
    "    #isi titik-titik dengan judul film favorit kalian\n",
    "    i -= 1 "
   ]
  },
  {
   "cell_type": "markdown",
   "metadata": {},
   "source": [
    "## FOR LOOP\n",
    "\n",
    "## Exercise 6.4\n",
    "\n",
    "munculkan 3 dari 7 elemen yang berada di dalam list1 dan list2\n"
   ]
  },
  {
   "cell_type": "code",
   "execution_count": 3,
   "metadata": {},
   "outputs": [
    {
     "name": "stdout",
     "output_type": "stream",
     "text": [
      "2 bakso jakarta\n",
      "3 pecel malang\n",
      "4 sate surabaya\n"
     ]
    }
   ],
   "source": [
    "list1 = [\"soto\",\"bakso\",\"pecel\",\"sate\",\"bakwan\",\"kupat\",\"roti\"] #masukkan 7 list makanan favorit kalian\n",
    "list2 = [\"sragen\",\"jakarta\",\"malang\",\"surabaya\",\"bandung\",\"bogor\",\"padang\"] #masukkan 7 list kota favorit kalian\n",
    "\n",
    "for i in range(1,4) :\n",
    "    print(i+1, list1[i] , list2[i])"
   ]
  },
  {
   "cell_type": "markdown",
   "metadata": {},
   "source": [
    "## Perulangan Bersarang\n",
    "\n",
    "## Exercise 6.5"
   ]
  },
  {
   "cell_type": "code",
   "execution_count": 4,
   "metadata": {},
   "outputs": [
    {
     "name": "stdout",
     "output_type": "stream",
     "text": [
      "364 350 336 322 308 294 280 266 252 238 224 210 196 \n",
      "338 325 312 299 286 273 260 247 234 221 208 195 182 169 \n",
      "312 300 288 276 264 252 240 228 216 204 192 180 168 156 144 \n",
      "286 275 264 253 242 231 220 209 198 187 176 165 154 143 132 121 \n",
      "260 250 240 230 220 210 200 190 180 170 160 150 140 130 120 110 100 \n",
      "234 225 216 207 198 189 180 171 162 153 144 135 126 117 108 99 90 81 \n",
      "208 200 192 184 176 168 160 152 144 136 128 120 112 104 96 88 80 72 64 \n"
     ]
    }
   ],
   "source": [
    "i = 14\n",
    "while i >= 8:\n",
    "    j = 26\n",
    "    while j>=i:\n",
    "        print(\"%d \" % (i*j), end = '')\n",
    "        j = j - 1\n",
    "    print()\n",
    "    i-=1"
   ]
  },
  {
   "cell_type": "markdown",
   "metadata": {},
   "source": [
    "## Pernyataan Loncat\n",
    "\n",
    "## Exercise 6.\n",
    "\n",
    "Buatlah fungsi berikut agar muncul angka hingga berhenti sesuai dengan nilai qq\n",
    "qq = angka favorit kalian\n",
    "pp>qq"
   ]
  },
  {
   "cell_type": "code",
   "execution_count": 5,
   "metadata": {},
   "outputs": [
    {
     "name": "stdout",
     "output_type": "stream",
     "text": [
      "0123456789"
     ]
    }
   ],
   "source": [
    "for i in range(100):\n",
    "    print(i,end='')\n",
    "    if i == 9:\n",
    "        break"
   ]
  },
  {
   "cell_type": "markdown",
   "metadata": {},
   "source": [
    "***\n",
    "<h1 align=\"center\">WELL DONE</h1>\n",
    " \n",
    "***"
   ]
  }
 ],
 "metadata": {
  "interpreter": {
   "hash": "cd08f94adcf3cbae37fe85286256f4c2a10455ca9094fd053e9f3d3f09647223"
  },
  "kernelspec": {
   "display_name": "Python 3.9.7 64-bit",
   "language": "python",
   "name": "python3"
  },
  "language_info": {
   "codemirror_mode": {
    "name": "ipython",
    "version": 3
   },
   "file_extension": ".py",
   "mimetype": "text/x-python",
   "name": "python",
   "nbconvert_exporter": "python",
   "pygments_lexer": "ipython3",
   "version": "3.9.5"
  },
  "orig_nbformat": 4
 },
 "nbformat": 4,
 "nbformat_minor": 2
}
